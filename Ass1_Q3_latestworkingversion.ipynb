{
  "nbformat": 4,
  "nbformat_minor": 0,
  "metadata": {
    "kernelspec": {
      "display_name": "Python 3",
      "language": "python",
      "name": "python3"
    },
    "language_info": {
      "codemirror_mode": {
        "name": "ipython",
        "version": 3
      },
      "file_extension": ".py",
      "mimetype": "text/x-python",
      "name": "python",
      "nbconvert_exporter": "python",
      "pygments_lexer": "ipython3",
      "version": "3.7.4"
    },
    "colab": {
      "name": "Ass1_Q3.ipynb",
      "provenance": [],
      "collapsed_sections": [],
      "toc_visible": true,
      "machine_shape": "hm"
    }
  },
  "cells": [
    {
      "cell_type": "code",
      "metadata": {
        "id": "mxfLtHbyLWtw",
        "colab_type": "code",
        "colab": {}
      },
      "source": [
        "import networkx as nx\n",
        "import matplotlib.pyplot as plt\n",
        "%matplotlib inline\n",
        "import warnings; warnings.simplefilter('ignore')\n",
        "import numpy as np\n",
        "import pandas as pd"
      ],
      "execution_count": 0,
      "outputs": []
    },
    {
      "cell_type": "code",
      "metadata": {
        "id": "NtmZy_AeNHAq",
        "colab_type": "code",
        "colab": {
          "base_uri": "https://localhost:8080/",
          "height": 124
        },
        "outputId": "d39e8850-8d58-49c6-8ae0-9a6e49b70d58"
      },
      "source": [
        "from google.colab import drive\n",
        "drive.mount('/content/drive')"
      ],
      "execution_count": 3,
      "outputs": [
        {
          "output_type": "stream",
          "text": [
            "Go to this URL in a browser: https://accounts.google.com/o/oauth2/auth?client_id=947318989803-6bn6qk8qdgf4n4g3pfee6491hc0brc4i.apps.googleusercontent.com&redirect_uri=urn%3aietf%3awg%3aoauth%3a2.0%3aoob&response_type=code&scope=email%20https%3a%2f%2fwww.googleapis.com%2fauth%2fdocs.test%20https%3a%2f%2fwww.googleapis.com%2fauth%2fdrive%20https%3a%2f%2fwww.googleapis.com%2fauth%2fdrive.photos.readonly%20https%3a%2f%2fwww.googleapis.com%2fauth%2fpeopleapi.readonly\n",
            "\n",
            "Enter your authorization code:\n",
            "··········\n",
            "Mounted at /content/drive\n"
          ],
          "name": "stdout"
        }
      ]
    },
    {
      "cell_type": "code",
      "metadata": {
        "id": "l5nRS1jNLWt4",
        "colab_type": "code",
        "colab": {}
      },
      "source": [
        "G=nx.Graph()"
      ],
      "execution_count": 0,
      "outputs": []
    },
    {
      "cell_type": "code",
      "metadata": {
        "id": "vDk3LIZCLWt-",
        "colab_type": "code",
        "colab": {
          "base_uri": "https://localhost:8080/",
          "height": 835
        },
        "outputId": "5ce903f6-35c9-4a34-c1a2-a4129b6b0550"
      },
      "source": [
        "f=open('C_Neighborhood_1.txt', 'r')\n",
        "count=0\n",
        "nodes = []\n",
        "edges = []\n",
        "for line in f:\n",
        "  count+=1\n",
        "  each = line.strip().split('\\t')\n",
        "  for i in range(1,len(each)):\n",
        "    temptuple=(each[0],each[i])\n",
        "    edges.append(temptuple)\n",
        "  nodes.append(each[0])\n",
        "  if count<10:\n",
        "    print(each)\n",
        "    print('This is nodes:')\n",
        "    print(nodes)\n",
        "    print('That is edges:')\n",
        "    print(edges)\n",
        "print('total number of rows %d' %(count))\n",
        "f.close()"
      ],
      "execution_count": 6,
      "outputs": [
        {
          "output_type": "stream",
          "text": [
            "['6745388', '24988750']\n",
            "This is nodes:\n",
            "['6745388']\n",
            "That is edges:\n",
            "[('6745388', '24988750')]\n",
            "['37960580', '64176222']\n",
            "This is nodes:\n",
            "['6745388', '37960580']\n",
            "That is edges:\n",
            "[('6745388', '24988750'), ('37960580', '64176222')]\n",
            "['25588696', '39087481', '27588516', '74384304', '75057241', '21289083', '28088471', '2681757', '81583656', '29388354', '445955']\n",
            "This is nodes:\n",
            "['6745388', '37960580', '25588696']\n",
            "That is edges:\n",
            "[('6745388', '24988750'), ('37960580', '64176222'), ('25588696', '39087481'), ('25588696', '27588516'), ('25588696', '74384304'), ('25588696', '75057241'), ('25588696', '21289083'), ('25588696', '28088471'), ('25588696', '2681757'), ('25588696', '81583656'), ('25588696', '29388354'), ('25588696', '445955')]\n",
            "['33951940', '84365404']\n",
            "This is nodes:\n",
            "['6745388', '37960580', '25588696', '33951940']\n",
            "That is edges:\n",
            "[('6745388', '24988750'), ('37960580', '64176222'), ('25588696', '39087481'), ('25588696', '27588516'), ('25588696', '74384304'), ('25588696', '75057241'), ('25588696', '21289083'), ('25588696', '28088471'), ('25588696', '2681757'), ('25588696', '81583656'), ('25588696', '29388354'), ('25588696', '445955'), ('33951940', '84365404')]\n",
            "['50150482', '47850689']\n",
            "This is nodes:\n",
            "['6745388', '37960580', '25588696', '33951940', '50150482']\n",
            "That is edges:\n",
            "[('6745388', '24988750'), ('37960580', '64176222'), ('25588696', '39087481'), ('25588696', '27588516'), ('25588696', '74384304'), ('25588696', '75057241'), ('25588696', '21289083'), ('25588696', '28088471'), ('25588696', '2681757'), ('25588696', '81583656'), ('25588696', '29388354'), ('25588696', '445955'), ('33951940', '84365404'), ('50150482', '47850689')]\n",
            "['30379264', '89782918', '1081901']\n",
            "This is nodes:\n",
            "['6745388', '37960580', '25588696', '33951940', '50150482', '30379264']\n",
            "That is edges:\n",
            "[('6745388', '24988750'), ('37960580', '64176222'), ('25588696', '39087481'), ('25588696', '27588516'), ('25588696', '74384304'), ('25588696', '75057241'), ('25588696', '21289083'), ('25588696', '28088471'), ('25588696', '2681757'), ('25588696', '81583656'), ('25588696', '29388354'), ('25588696', '445955'), ('33951940', '84365404'), ('50150482', '47850689'), ('30379264', '89782918'), ('30379264', '1081901')]\n",
            "['77575016', '76175142']\n",
            "This is nodes:\n",
            "['6745388', '37960580', '25588696', '33951940', '50150482', '30379264', '77575016']\n",
            "That is edges:\n",
            "[('6745388', '24988750'), ('37960580', '64176222'), ('25588696', '39087481'), ('25588696', '27588516'), ('25588696', '74384304'), ('25588696', '75057241'), ('25588696', '21289083'), ('25588696', '28088471'), ('25588696', '2681757'), ('25588696', '81583656'), ('25588696', '29388354'), ('25588696', '445955'), ('33951940', '84365404'), ('50150482', '47850689'), ('30379264', '89782918'), ('30379264', '1081901'), ('77575016', '76175142')]\n",
            "['97646207', '88774008']\n",
            "This is nodes:\n",
            "['6745388', '37960580', '25588696', '33951940', '50150482', '30379264', '77575016', '97646207']\n",
            "That is edges:\n",
            "[('6745388', '24988750'), ('37960580', '64176222'), ('25588696', '39087481'), ('25588696', '27588516'), ('25588696', '74384304'), ('25588696', '75057241'), ('25588696', '21289083'), ('25588696', '28088471'), ('25588696', '2681757'), ('25588696', '81583656'), ('25588696', '29388354'), ('25588696', '445955'), ('33951940', '84365404'), ('50150482', '47850689'), ('30379264', '89782918'), ('30379264', '1081901'), ('77575016', '76175142'), ('97646207', '88774008')]\n",
            "['27288543', '25888669', '27988480']\n",
            "This is nodes:\n",
            "['6745388', '37960580', '25588696', '33951940', '50150482', '30379264', '77575016', '97646207', '27288543']\n",
            "That is edges:\n",
            "[('6745388', '24988750'), ('37960580', '64176222'), ('25588696', '39087481'), ('25588696', '27588516'), ('25588696', '74384304'), ('25588696', '75057241'), ('25588696', '21289083'), ('25588696', '28088471'), ('25588696', '2681757'), ('25588696', '81583656'), ('25588696', '29388354'), ('25588696', '445955'), ('33951940', '84365404'), ('50150482', '47850689'), ('30379264', '89782918'), ('30379264', '1081901'), ('77575016', '76175142'), ('97646207', '88774008'), ('27288543', '25888669'), ('27288543', '27988480')]\n",
            "total number of rows 3856\n"
          ],
          "name": "stdout"
        }
      ]
    },
    {
      "cell_type": "code",
      "metadata": {
        "id": "TIwGujrLLWuF",
        "colab_type": "code",
        "colab": {
          "base_uri": "https://localhost:8080/",
          "height": 104
        },
        "outputId": "03ee731e-47a0-4f1b-f856-301c684709ed"
      },
      "source": [
        "G=nx.Graph()\n",
        "G.add_nodes_from(nodes)\n",
        "G.add_edges_from(edges)\n",
        "print(nx.info(G))"
      ],
      "execution_count": 7,
      "outputs": [
        {
          "output_type": "stream",
          "text": [
            "Name: \n",
            "Type: Graph\n",
            "Number of nodes: 3856\n",
            "Number of edges: 4737\n",
            "Average degree:   2.4570\n"
          ],
          "name": "stdout"
        }
      ]
    },
    {
      "cell_type": "code",
      "metadata": {
        "id": "LEZFWYlfLWuP",
        "colab_type": "code",
        "colab": {}
      },
      "source": [
        "import pandas as pd\n",
        "elink1=[]\n",
        "preds1 = nx.adamic_adar_index(G, list(G.edges()))\n",
        "for u,v,aa in preds1:\n",
        "  #print ('(%s, %s) -> %f' % (u, v, pa))\n",
        "  val = u+\",\"+v+\",\"+str(aa)\n",
        "  elink1.append(val)\n",
        "\n",
        "df_elink1 = pd.DataFrame(elink1)\n",
        "df_elink1['u'], df_elink1['v'] = df_elink1[0].str.split(',', 1).str\n",
        "df_elink1['v1'], df_elink1['aa']= df_elink1['v'].str.split(',', 1).str\n",
        "df_elink1.drop('v', axis=1, inplace=True)\n",
        "df_elink1.drop(0, axis=1, inplace=True)\n",
        "df_elink1.rename(columns={'v1': 'v'}, inplace=True)\n",
        "df_elink1.rename(columns={'v': 'des_node'}, inplace=True)\n",
        "df_elink1.rename(columns={'u': 'src_node'}, inplace=True)"
      ],
      "execution_count": 0,
      "outputs": []
    },
    {
      "cell_type": "code",
      "metadata": {
        "id": "Axo7Ma_cLWuX",
        "colab_type": "code",
        "colab": {},
        "outputId": "e33cf1bf-df8d-4d1c-c3c4-be5946e304ff"
      },
      "source": [
        "#df_elink1.head()"
      ],
      "execution_count": 0,
      "outputs": [
        {
          "output_type": "execute_result",
          "data": {
            "text/html": [
              "<div>\n",
              "<style scoped>\n",
              "    .dataframe tbody tr th:only-of-type {\n",
              "        vertical-align: middle;\n",
              "    }\n",
              "\n",
              "    .dataframe tbody tr th {\n",
              "        vertical-align: top;\n",
              "    }\n",
              "\n",
              "    .dataframe thead th {\n",
              "        text-align: right;\n",
              "    }\n",
              "</style>\n",
              "<table border=\"1\" class=\"dataframe\">\n",
              "  <thead>\n",
              "    <tr style=\"text-align: right;\">\n",
              "      <th></th>\n",
              "      <th>src_node</th>\n",
              "      <th>des_node</th>\n",
              "      <th>aa</th>\n",
              "    </tr>\n",
              "  </thead>\n",
              "  <tbody>\n",
              "    <tr>\n",
              "      <td>0</td>\n",
              "      <td>6745388</td>\n",
              "      <td>24988750</td>\n",
              "      <td>0</td>\n",
              "    </tr>\n",
              "    <tr>\n",
              "      <td>1</td>\n",
              "      <td>37960580</td>\n",
              "      <td>64176222</td>\n",
              "      <td>0</td>\n",
              "    </tr>\n",
              "    <tr>\n",
              "      <td>2</td>\n",
              "      <td>25588696</td>\n",
              "      <td>39087481</td>\n",
              "      <td>0.9441248940643607</td>\n",
              "    </tr>\n",
              "    <tr>\n",
              "      <td>3</td>\n",
              "      <td>25588696</td>\n",
              "      <td>27588516</td>\n",
              "      <td>0.3668929476389716</td>\n",
              "    </tr>\n",
              "    <tr>\n",
              "      <td>4</td>\n",
              "      <td>25588696</td>\n",
              "      <td>74384304</td>\n",
              "      <td>0</td>\n",
              "    </tr>\n",
              "  </tbody>\n",
              "</table>\n",
              "</div>"
            ],
            "text/plain": [
              "   src_node  des_node                  aa\n",
              "0   6745388  24988750                   0\n",
              "1  37960580  64176222                   0\n",
              "2  25588696  39087481  0.9441248940643607\n",
              "3  25588696  27588516  0.3668929476389716\n",
              "4  25588696  74384304                   0"
            ]
          },
          "metadata": {
            "tags": []
          },
          "execution_count": 96
        }
      ]
    },
    {
      "cell_type": "code",
      "metadata": {
        "id": "tT-KDX2PLWud",
        "colab_type": "code",
        "colab": {}
      },
      "source": [
        "elink2=[]\n",
        "preds2 = nx.jaccard_coefficient(G, list(G.edges()))\n",
        "for u,v,jc in preds2:\n",
        "  #print ('(%s, %s) -> %f' % (u, v, pa))\n",
        "  val = u+\",\"+v+\",\"+str(jc)\n",
        "  elink2.append(val)\n",
        "\n",
        "df_elink2 = pd.DataFrame(elink2)\n",
        "df_elink2['u'], df_elink2['v'] = df_elink2[0].str.split(',', 1).str\n",
        "df_elink2['v1'], df_elink2['jc']= df_elink2['v'].str.split(',', 1).str\n",
        "df_elink2.drop('v', axis=1, inplace=True)\n",
        "df_elink2.drop(0, axis=1, inplace=True)\n",
        "df_elink2.rename(columns={'v1': 'v'}, inplace=True)\n",
        "df_elink2.rename(columns={'v': 'des_node'}, inplace=True)\n",
        "df_elink2.rename(columns={'u': 'src_node'}, inplace=True)"
      ],
      "execution_count": 0,
      "outputs": []
    },
    {
      "cell_type": "code",
      "metadata": {
        "id": "0KnhH8m0LWui",
        "colab_type": "code",
        "colab": {}
      },
      "source": [
        "elink3=[]\n",
        "preds3 = nx.resource_allocation_index(G, list(G.edges()))\n",
        "for u,v,ra in preds3:\n",
        "  #print ('(%s, %s) -> %f' % (u, v, pa))\n",
        "  val = u+\",\"+v+\",\"+str(ra)\n",
        "  elink3.append(val)\n",
        "\n",
        "df_elink3 = pd.DataFrame(elink3)\n",
        "df_elink3['u'], df_elink3['v'] = df_elink3[0].str.split(',', 1).str\n",
        "df_elink3['v1'], df_elink3['ra']= df_elink3['v'].str.split(',', 1).str\n",
        "df_elink3.drop('v', axis=1, inplace=True)\n",
        "df_elink3.drop(0, axis=1, inplace=True)\n",
        "df_elink3.rename(columns={'v1': 'v'}, inplace=True)\n",
        "df_elink3.rename(columns={'v': 'des_node'}, inplace=True)\n",
        "df_elink3.rename(columns={'u': 'src_node'}, inplace=True)"
      ],
      "execution_count": 0,
      "outputs": []
    },
    {
      "cell_type": "code",
      "metadata": {
        "id": "JCAnTnCMLWup",
        "colab_type": "code",
        "colab": {}
      },
      "source": [
        "elink4=[]\n",
        "preds4 = nx.preferential_attachment(G, list(G.edges()))\n",
        "for u,v,pa in preds4:\n",
        "  #print ('(%s, %s) -> %f' % (u, v, pa))\n",
        "  val = u+\",\"+v+\",\"+str(pa)\n",
        "  elink4.append(val)\n",
        "\n",
        "df_elink4 = pd.DataFrame(elink4)\n",
        "df_elink4['u'], df_elink4['v'] = df_elink4[0].str.split(',', 1).str\n",
        "df_elink4['v1'], df_elink4['pa']= df_elink4['v'].str.split(',', 1).str\n",
        "df_elink4.drop('v', axis=1, inplace=True)\n",
        "df_elink4.drop(0, axis=1, inplace=True)\n",
        "df_elink4.rename(columns={'v1': 'v'}, inplace=True)\n",
        "df_elink4.rename(columns={'v': 'des_node'}, inplace=True)\n",
        "df_elink4.rename(columns={'u': 'src_node'}, inplace=True)"
      ],
      "execution_count": 0,
      "outputs": []
    },
    {
      "cell_type": "code",
      "metadata": {
        "id": "KzlduYGKLWuu",
        "colab_type": "code",
        "colab": {}
      },
      "source": [
        "#df_elink2.head()\n",
        "\n",
        "df_elink = pd.merge(df_elink1, df_elink2,  on = ['src_node','des_node'])\n",
        "\n",
        "df_elink_m1 = pd.merge(df_elink,df_elink3,on = ['src_node','des_node'])\n",
        "\n",
        "df_elink = pd.merge(df_elink_m1,df_elink4,on = ['src_node','des_node'])"
      ],
      "execution_count": 0,
      "outputs": []
    },
    {
      "cell_type": "code",
      "metadata": {
        "id": "GtxL3ryoLWu0",
        "colab_type": "code",
        "colab": {
          "base_uri": "https://localhost:8080/",
          "height": 208
        },
        "outputId": "1e273c0a-3002-4bb5-ec02-b9d947bf0656"
      },
      "source": [
        "df_elink.info()"
      ],
      "execution_count": 13,
      "outputs": [
        {
          "output_type": "stream",
          "text": [
            "<class 'pandas.core.frame.DataFrame'>\n",
            "Int64Index: 4737 entries, 0 to 4736\n",
            "Data columns (total 6 columns):\n",
            "src_node    4737 non-null object\n",
            "des_node    4737 non-null object\n",
            "aa          4737 non-null object\n",
            "jc          4737 non-null object\n",
            "ra          4737 non-null object\n",
            "pa          4737 non-null object\n",
            "dtypes: object(6)\n",
            "memory usage: 259.1+ KB\n"
          ],
          "name": "stdout"
        }
      ]
    },
    {
      "cell_type": "code",
      "metadata": {
        "id": "nRoQHdQMLWu5",
        "colab_type": "code",
        "colab": {}
      },
      "source": [
        "from sklearn.model_selection import train_test_split\n",
        "import numpy as np\n",
        "x_train_p, x_test_p, y_train_p, y_test_p  = train_test_split(df_elink,np.ones(len(df_elink)),test_size=0.2, random_state=9)"
      ],
      "execution_count": 0,
      "outputs": []
    },
    {
      "cell_type": "code",
      "metadata": {
        "id": "Stj7huSjLWu-",
        "colab_type": "code",
        "colab": {
          "base_uri": "https://localhost:8080/",
          "height": 988
        },
        "outputId": "3c2fde6b-232a-4626-a854-f50e897db4f4"
      },
      "source": [
        "y_test_p"
      ],
      "execution_count": 47,
      "outputs": [
        {
          "output_type": "execute_result",
          "data": {
            "text/plain": [
              "array([1., 1., 1., 1., 1., 1., 1., 1., 1., 1., 1., 1., 1., 1., 1., 1., 1.,\n",
              "       1., 1., 1., 1., 1., 1., 1., 1., 1., 1., 1., 1., 1., 1., 1., 1., 1.,\n",
              "       1., 1., 1., 1., 1., 1., 1., 1., 1., 1., 1., 1., 1., 1., 1., 1., 1.,\n",
              "       1., 1., 1., 1., 1., 1., 1., 1., 1., 1., 1., 1., 1., 1., 1., 1., 1.,\n",
              "       1., 1., 1., 1., 1., 1., 1., 1., 1., 1., 1., 1., 1., 1., 1., 1., 1.,\n",
              "       1., 1., 1., 1., 1., 1., 1., 1., 1., 1., 1., 1., 1., 1., 1., 1., 1.,\n",
              "       1., 1., 1., 1., 1., 1., 1., 1., 1., 1., 1., 1., 1., 1., 1., 1., 1.,\n",
              "       1., 1., 1., 1., 1., 1., 1., 1., 1., 1., 1., 1., 1., 1., 1., 1., 1.,\n",
              "       1., 1., 1., 1., 1., 1., 1., 1., 1., 1., 1., 1., 1., 1., 1., 1., 1.,\n",
              "       1., 1., 1., 1., 1., 1., 1., 1., 1., 1., 1., 1., 1., 1., 1., 1., 1.,\n",
              "       1., 1., 1., 1., 1., 1., 1., 1., 1., 1., 1., 1., 1., 1., 1., 1., 1.,\n",
              "       1., 1., 1., 1., 1., 1., 1., 1., 1., 1., 1., 1., 1., 1., 1., 1., 1.,\n",
              "       1., 1., 1., 1., 1., 1., 1., 1., 1., 1., 1., 1., 1., 1., 1., 1., 1.,\n",
              "       1., 1., 1., 1., 1., 1., 1., 1., 1., 1., 1., 1., 1., 1., 1., 1., 1.,\n",
              "       1., 1., 1., 1., 1., 1., 1., 1., 1., 1., 1., 1., 1., 1., 1., 1., 1.,\n",
              "       1., 1., 1., 1., 1., 1., 1., 1., 1., 1., 1., 1., 1., 1., 1., 1., 1.,\n",
              "       1., 1., 1., 1., 1., 1., 1., 1., 1., 1., 1., 1., 1., 1., 1., 1., 1.,\n",
              "       1., 1., 1., 1., 1., 1., 1., 1., 1., 1., 1., 1., 1., 1., 1., 1., 1.,\n",
              "       1., 1., 1., 1., 1., 1., 1., 1., 1., 1., 1., 1., 1., 1., 1., 1., 1.,\n",
              "       1., 1., 1., 1., 1., 1., 1., 1., 1., 1., 1., 1., 1., 1., 1., 1., 1.,\n",
              "       1., 1., 1., 1., 1., 1., 1., 1., 1., 1., 1., 1., 1., 1., 1., 1., 1.,\n",
              "       1., 1., 1., 1., 1., 1., 1., 1., 1., 1., 1., 1., 1., 1., 1., 1., 1.,\n",
              "       1., 1., 1., 1., 1., 1., 1., 1., 1., 1., 1., 1., 1., 1., 1., 1., 1.,\n",
              "       1., 1., 1., 1., 1., 1., 1., 1., 1., 1., 1., 1., 1., 1., 1., 1., 1.,\n",
              "       1., 1., 1., 1., 1., 1., 1., 1., 1., 1., 1., 1., 1., 1., 1., 1., 1.,\n",
              "       1., 1., 1., 1., 1., 1., 1., 1., 1., 1., 1., 1., 1., 1., 1., 1., 1.,\n",
              "       1., 1., 1., 1., 1., 1., 1., 1., 1., 1., 1., 1., 1., 1., 1., 1., 1.,\n",
              "       1., 1., 1., 1., 1., 1., 1., 1., 1., 1., 1., 1., 1., 1., 1., 1., 1.,\n",
              "       1., 1., 1., 1., 1., 1., 1., 1., 1., 1., 1., 1., 1., 1., 1., 1., 1.,\n",
              "       1., 1., 1., 1., 1., 1., 1., 1., 1., 1., 1., 1., 1., 1., 1., 1., 1.,\n",
              "       1., 1., 1., 1., 1., 1., 1., 1., 1., 1., 1., 1., 1., 1., 1., 1., 1.,\n",
              "       1., 1., 1., 1., 1., 1., 1., 1., 1., 1., 1., 1., 1., 1., 1., 1., 1.,\n",
              "       1., 1., 1., 1., 1., 1., 1., 1., 1., 1., 1., 1., 1., 1., 1., 1., 1.,\n",
              "       1., 1., 1., 1., 1., 1., 1., 1., 1., 1., 1., 1., 1., 1., 1., 1., 1.,\n",
              "       1., 1., 1., 1., 1., 1., 1., 1., 1., 1., 1., 1., 1., 1., 1., 1., 1.,\n",
              "       1., 1., 1., 1., 1., 1., 1., 1., 1., 1., 1., 1., 1., 1., 1., 1., 1.,\n",
              "       1., 1., 1., 1., 1., 1., 1., 1., 1., 1., 1., 1., 1., 1., 1., 1., 1.,\n",
              "       1., 1., 1., 1., 1., 1., 1., 1., 1., 1., 1., 1., 1., 1., 1., 1., 1.,\n",
              "       1., 1., 1., 1., 1., 1., 1., 1., 1., 1., 1., 1., 1., 1., 1., 1., 1.,\n",
              "       1., 1., 1., 1., 1., 1., 1., 1., 1., 1., 1., 1., 1., 1., 1., 1., 1.,\n",
              "       1., 1., 1., 1., 1., 1., 1., 1., 1., 1., 1., 1., 1., 1., 1., 1., 1.,\n",
              "       1., 1., 1., 1., 1., 1., 1., 1., 1., 1., 1., 1., 1., 1., 1., 1., 1.,\n",
              "       1., 1., 1., 1., 1., 1., 1., 1., 1., 1., 1., 1., 1., 1., 1., 1., 1.,\n",
              "       1., 1., 1., 1., 1., 1., 1., 1., 1., 1., 1., 1., 1., 1., 1., 1., 1.,\n",
              "       1., 1., 1., 1., 1., 1., 1., 1., 1., 1., 1., 1., 1., 1., 1., 1., 1.,\n",
              "       1., 1., 1., 1., 1., 1., 1., 1., 1., 1., 1., 1., 1., 1., 1., 1., 1.,\n",
              "       1., 1., 1., 1., 1., 1., 1., 1., 1., 1., 1., 1., 1., 1., 1., 1., 1.,\n",
              "       1., 1., 1., 1., 1., 1., 1., 1., 1., 1., 1., 1., 1., 1., 1., 1., 1.,\n",
              "       1., 1., 1., 1., 1., 1., 1., 1., 1., 1., 1., 1., 1., 1., 1., 1., 1.,\n",
              "       1., 1., 1., 1., 1., 1., 1., 1., 1., 1., 1., 1., 1., 1., 1., 1., 1.,\n",
              "       1., 1., 1., 1., 1., 1., 1., 1., 1., 1., 1., 1., 1., 1., 1., 1., 1.,\n",
              "       1., 1., 1., 1., 1., 1., 1., 1., 1., 1., 1., 1., 1., 1., 1., 1., 1.,\n",
              "       1., 1., 1., 1., 1., 1., 1., 1., 1., 1., 1., 1., 1., 1., 1., 1., 1.,\n",
              "       1., 1., 1., 1., 1., 1., 1., 1., 1., 1., 1., 1., 1., 1., 1., 1., 1.,\n",
              "       1., 1., 1., 1., 1., 1., 1., 1., 1., 1., 1., 1., 1., 1., 1., 1., 1.,\n",
              "       1., 1., 1., 1., 1., 1., 1., 1., 1., 1., 1., 1., 1.])"
            ]
          },
          "metadata": {
            "tags": []
          },
          "execution_count": 47
        }
      ]
    },
    {
      "cell_type": "code",
      "metadata": {
        "id": "M-NYc_GXLWvC",
        "colab_type": "code",
        "colab": {}
      },
      "source": [
        "plink=[]\n",
        "for i in range(len(G.nodes())):\n",
        "  for j in range(i+1,len(G.nodes())):\n",
        "    plink.append((list(G.nodes())[i],list(G.nodes())[j]))  "
      ],
      "execution_count": 0,
      "outputs": []
    },
    {
      "cell_type": "code",
      "metadata": {
        "id": "BTrpfeDrLWvG",
        "colab_type": "code",
        "colab": {
          "base_uri": "https://localhost:8080/",
          "height": 52
        },
        "outputId": "a2176e65-4502-43bf-a0d0-57b42b575bb5"
      },
      "source": [
        "%%time\n",
        "plink1=[]\n",
        "preds1 = nx.adamic_adar_index(G, plink)\n",
        "for u,v,aa in preds1:\n",
        "  #print ('(%s, %s) -> %f' % (u, v, pa))\n",
        "  val = u+\",\"+v+\",\"+str(aa)\n",
        "  plink1.append(val)\n",
        "\n",
        "df_plink1 = pd.DataFrame(plink1)\n",
        "df_plink1['u'], df_plink1['v'] = df_plink1[0].str.split(',', 1).str\n",
        "df_plink1['v1'], df_plink1['aa']= df_plink1['v'].str.split(',', 1).str\n",
        "df_plink1.drop('v', axis=1, inplace=True)\n",
        "df_plink1.drop(0, axis=1, inplace=True)\n",
        "df_plink1.rename(columns={'v1': 'v'}, inplace=True)\n",
        "df_plink1.rename(columns={'v': 'des_node'}, inplace=True)\n",
        "df_plink1.rename(columns={'u': 'src_node'}, inplace=True)"
      ],
      "execution_count": 16,
      "outputs": [
        {
          "output_type": "stream",
          "text": [
            "CPU times: user 2min 5s, sys: 2.64 s, total: 2min 8s\n",
            "Wall time: 2min 8s\n"
          ],
          "name": "stdout"
        }
      ]
    },
    {
      "cell_type": "code",
      "metadata": {
        "id": "6qHzuKjjLWvL",
        "colab_type": "code",
        "colab": {
          "base_uri": "https://localhost:8080/",
          "height": 52
        },
        "outputId": "7b51e4b7-7015-44f4-bace-535113048972"
      },
      "source": [
        "%%time\n",
        "plink2=[]\n",
        "preds2 = nx.jaccard_coefficient(G, plink)\n",
        "for u,v,jc in preds2:\n",
        "  #print ('(%s, %s) -> %f' % (u, v, pa))\n",
        "  val = u+\",\"+v+\",\"+str(jc)\n",
        "  plink2.append(val)\n",
        "\n",
        "df_plink2 = pd.DataFrame(plink2)\n",
        "df_plink2['u'], df_plink2['v'] = df_plink2[0].str.split(',', 1).str\n",
        "df_plink2['v1'], df_plink2['jc']= df_plink2['v'].str.split(',', 1).str\n",
        "df_plink2.drop('v', axis=1, inplace=True)\n",
        "df_plink2.drop(0, axis=1, inplace=True)\n",
        "df_plink2.rename(columns={'v1': 'v'}, inplace=True)\n",
        "df_plink2.rename(columns={'v': 'des_node'}, inplace=True)\n",
        "df_plink2.rename(columns={'u': 'src_node'}, inplace=True)"
      ],
      "execution_count": 17,
      "outputs": [
        {
          "output_type": "stream",
          "text": [
            "CPU times: user 2min 50s, sys: 1.93 s, total: 2min 52s\n",
            "Wall time: 2min 52s\n"
          ],
          "name": "stdout"
        }
      ]
    },
    {
      "cell_type": "code",
      "metadata": {
        "id": "tXjFa6AhLWvQ",
        "colab_type": "code",
        "colab": {
          "base_uri": "https://localhost:8080/",
          "height": 52
        },
        "outputId": "eac785a5-f43e-4893-bd57-25df90e0ecc4"
      },
      "source": [
        "%%time\n",
        "plink3=[]\n",
        "preds3 = nx.resource_allocation_index(G, plink)\n",
        "for u,v,ra in preds3:\n",
        "  #print ('(%s, %s) -> %f' % (u, v, pa))\n",
        "  val = u+\",\"+v+\",\"+str(ra)\n",
        "  plink3.append(val)\n",
        "\n",
        "df_plink3 = pd.DataFrame(plink3)\n",
        "df_plink3['u'], df_plink3['v'] = df_plink3[0].str.split(',', 1).str\n",
        "df_plink3['v1'], df_plink3['ra']= df_plink3['v'].str.split(',', 1).str\n",
        "df_plink3.drop('v', axis=1, inplace=True)\n",
        "df_plink3.drop(0, axis=1, inplace=True)\n",
        "df_plink3.rename(columns={'v1': 'v'}, inplace=True)\n",
        "df_plink3.rename(columns={'v': 'des_node'}, inplace=True)\n",
        "df_plink3.rename(columns={'u': 'src_node'}, inplace=True)"
      ],
      "execution_count": 18,
      "outputs": [
        {
          "output_type": "stream",
          "text": [
            "CPU times: user 2min 24s, sys: 1.54 s, total: 2min 25s\n",
            "Wall time: 2min 25s\n"
          ],
          "name": "stdout"
        }
      ]
    },
    {
      "cell_type": "code",
      "metadata": {
        "id": "y6xvNPbZLWvU",
        "colab_type": "code",
        "colab": {
          "base_uri": "https://localhost:8080/",
          "height": 52
        },
        "outputId": "6d2383d0-1bf3-442f-b1f9-5c877494936f"
      },
      "source": [
        "%%time\n",
        "plink4=[]\n",
        "preds4 = nx.preferential_attachment(G, plink)\n",
        "for u,v,pa in preds4:\n",
        "  #print ('(%s, %s) -> %f' % (u, v, pa))\n",
        "  val = u+\",\"+v+\",\"+str(pa)\n",
        "  plink4.append(val)\n",
        "\n",
        "df_plink4 = pd.DataFrame(plink4)\n",
        "df_plink4['u'], df_plink4['v'] = df_plink4[0].str.split(',', 1).str\n",
        "df_plink4['v1'], df_plink4['pa']= df_plink4['v'].str.split(',', 1).str\n",
        "df_plink4.drop('v', axis=1, inplace=True)\n",
        "df_plink4.drop(0, axis=1, inplace=True)\n",
        "df_plink4.rename(columns={'v1': 'v'}, inplace=True)\n",
        "df_plink4.rename(columns={'v': 'des_node'}, inplace=True)\n",
        "df_plink4.rename(columns={'u': 'src_node'}, inplace=True)"
      ],
      "execution_count": 19,
      "outputs": [
        {
          "output_type": "stream",
          "text": [
            "CPU times: user 2min 3s, sys: 1.49 s, total: 2min 5s\n",
            "Wall time: 2min 5s\n"
          ],
          "name": "stdout"
        }
      ]
    },
    {
      "cell_type": "code",
      "metadata": {
        "id": "k59SIylMLWvc",
        "colab_type": "code",
        "colab": {
          "base_uri": "https://localhost:8080/",
          "height": 156
        },
        "outputId": "80d8b8ea-b923-4853-f163-90b404cc5a3b"
      },
      "source": [
        "df_plink1.info()"
      ],
      "execution_count": 20,
      "outputs": [
        {
          "output_type": "stream",
          "text": [
            "<class 'pandas.core.frame.DataFrame'>\n",
            "RangeIndex: 7432440 entries, 0 to 7432439\n",
            "Data columns (total 3 columns):\n",
            "src_node    object\n",
            "des_node    object\n",
            "aa          object\n",
            "dtypes: object(3)\n",
            "memory usage: 170.1+ MB\n"
          ],
          "name": "stdout"
        }
      ]
    },
    {
      "cell_type": "code",
      "metadata": {
        "id": "8N-NeBFSLWvf",
        "colab_type": "code",
        "colab": {}
      },
      "source": [
        "df_plink = pd.merge(df_plink1, df_plink2,  on = ['src_node','des_node'])\n",
        "\n",
        "df_plink_m1 = pd.merge(df_plink,df_plink3,on = ['src_node','des_node'])\n",
        "\n",
        "df_plink = pd.merge(df_plink_m1,df_plink4,on = ['src_node','des_node'])"
      ],
      "execution_count": 0,
      "outputs": []
    },
    {
      "cell_type": "code",
      "metadata": {
        "id": "EVQAq96_LWvj",
        "colab_type": "code",
        "colab": {
          "base_uri": "https://localhost:8080/",
          "height": 202
        },
        "outputId": "6d19a4ef-3fc3-4a59-fc60-9df515ac477f"
      },
      "source": [
        "df_plink.head()"
      ],
      "execution_count": 26,
      "outputs": [
        {
          "output_type": "execute_result",
          "data": {
            "text/html": [
              "<div>\n",
              "<style scoped>\n",
              "    .dataframe tbody tr th:only-of-type {\n",
              "        vertical-align: middle;\n",
              "    }\n",
              "\n",
              "    .dataframe tbody tr th {\n",
              "        vertical-align: top;\n",
              "    }\n",
              "\n",
              "    .dataframe thead th {\n",
              "        text-align: right;\n",
              "    }\n",
              "</style>\n",
              "<table border=\"1\" class=\"dataframe\">\n",
              "  <thead>\n",
              "    <tr style=\"text-align: right;\">\n",
              "      <th></th>\n",
              "      <th>src_node</th>\n",
              "      <th>des_node</th>\n",
              "      <th>aa</th>\n",
              "      <th>jc</th>\n",
              "      <th>ra</th>\n",
              "      <th>pa</th>\n",
              "    </tr>\n",
              "  </thead>\n",
              "  <tbody>\n",
              "    <tr>\n",
              "      <th>0</th>\n",
              "      <td>6745388</td>\n",
              "      <td>37960580</td>\n",
              "      <td>0</td>\n",
              "      <td>0.0</td>\n",
              "      <td>0</td>\n",
              "      <td>1</td>\n",
              "    </tr>\n",
              "    <tr>\n",
              "      <th>1</th>\n",
              "      <td>6745388</td>\n",
              "      <td>25588696</td>\n",
              "      <td>0</td>\n",
              "      <td>0.0</td>\n",
              "      <td>0</td>\n",
              "      <td>10</td>\n",
              "    </tr>\n",
              "    <tr>\n",
              "      <th>2</th>\n",
              "      <td>6745388</td>\n",
              "      <td>33951940</td>\n",
              "      <td>0</td>\n",
              "      <td>0.0</td>\n",
              "      <td>0</td>\n",
              "      <td>1</td>\n",
              "    </tr>\n",
              "    <tr>\n",
              "      <th>3</th>\n",
              "      <td>6745388</td>\n",
              "      <td>50150482</td>\n",
              "      <td>0</td>\n",
              "      <td>0.0</td>\n",
              "      <td>0</td>\n",
              "      <td>1</td>\n",
              "    </tr>\n",
              "    <tr>\n",
              "      <th>4</th>\n",
              "      <td>6745388</td>\n",
              "      <td>30379264</td>\n",
              "      <td>0</td>\n",
              "      <td>0.0</td>\n",
              "      <td>0</td>\n",
              "      <td>2</td>\n",
              "    </tr>\n",
              "  </tbody>\n",
              "</table>\n",
              "</div>"
            ],
            "text/plain": [
              "  src_node  des_node aa   jc ra  pa\n",
              "0  6745388  37960580  0  0.0  0   1\n",
              "1  6745388  25588696  0  0.0  0  10\n",
              "2  6745388  33951940  0  0.0  0   1\n",
              "3  6745388  50150482  0  0.0  0   1\n",
              "4  6745388  30379264  0  0.0  0   2"
            ]
          },
          "metadata": {
            "tags": []
          },
          "execution_count": 26
        }
      ]
    },
    {
      "cell_type": "code",
      "metadata": {
        "id": "0iINrZgwLWvq",
        "colab_type": "code",
        "colab": {}
      },
      "source": [
        "x_train_n, x_test_n, y_train_n, y_test_n  = train_test_split(df_plink,np.zeros(len(df_plink)),test_size=0.2, random_state=9)"
      ],
      "execution_count": 0,
      "outputs": []
    },
    {
      "cell_type": "code",
      "metadata": {
        "id": "IkTZLRTmLWvu",
        "colab_type": "code",
        "colab": {
          "base_uri": "https://localhost:8080/",
          "height": 35
        },
        "outputId": "87fcad29-cb4d-4bf2-ba93-c2f5f540d46a"
      },
      "source": [
        "y_test_n"
      ],
      "execution_count": 50,
      "outputs": [
        {
          "output_type": "execute_result",
          "data": {
            "text/plain": [
              "array([0., 0., 0., ..., 0., 0., 0.])"
            ]
          },
          "metadata": {
            "tags": []
          },
          "execution_count": 50
        }
      ]
    },
    {
      "cell_type": "code",
      "metadata": {
        "id": "voL1Dg2FLWvy",
        "colab_type": "code",
        "colab": {}
      },
      "source": [
        "df_final_train = x_train_p.append(x_train_n,ignore_index=True)\n",
        "y_final_train = np.concatenate((y_train_p,y_train_n))\n",
        "df_final_test = x_test_p.append(x_test_n,ignore_index=True)\n",
        "y_final_test = np.concatenate((y_test_p,y_test_n))"
      ],
      "execution_count": 0,
      "outputs": []
    },
    {
      "cell_type": "code",
      "metadata": {
        "id": "Oj542XCmLWv2",
        "colab_type": "code",
        "colab": {
          "base_uri": "https://localhost:8080/",
          "height": 208
        },
        "outputId": "b5dbf1c0-23d8-448a-b7b0-14d8a4e51b58"
      },
      "source": [
        "df_final_train.info()#y_final_train"
      ],
      "execution_count": 52,
      "outputs": [
        {
          "output_type": "stream",
          "text": [
            "<class 'pandas.core.frame.DataFrame'>\n",
            "RangeIndex: 5949741 entries, 0 to 5949740\n",
            "Data columns (total 6 columns):\n",
            "src_node    object\n",
            "des_node    object\n",
            "aa          object\n",
            "jc          object\n",
            "ra          object\n",
            "pa          object\n",
            "dtypes: object(6)\n",
            "memory usage: 272.4+ MB\n"
          ],
          "name": "stdout"
        }
      ]
    },
    {
      "cell_type": "code",
      "metadata": {
        "id": "UZ5RsDucLWv6",
        "colab_type": "code",
        "colab": {}
      },
      "source": [
        "#dependent varible i.e link exist or not\n",
        "df_final_train['indicator_link'] = y_final_train"
      ],
      "execution_count": 0,
      "outputs": []
    },
    {
      "cell_type": "code",
      "metadata": {
        "id": "fIYOACPaLWv_",
        "colab_type": "code",
        "colab": {
          "base_uri": "https://localhost:8080/",
          "height": 202
        },
        "outputId": "f53c6c69-7fa6-4f64-c84a-4832ae9d241f"
      },
      "source": [
        "df_final_train.head()"
      ],
      "execution_count": 54,
      "outputs": [
        {
          "output_type": "execute_result",
          "data": {
            "text/html": [
              "<div>\n",
              "<style scoped>\n",
              "    .dataframe tbody tr th:only-of-type {\n",
              "        vertical-align: middle;\n",
              "    }\n",
              "\n",
              "    .dataframe tbody tr th {\n",
              "        vertical-align: top;\n",
              "    }\n",
              "\n",
              "    .dataframe thead th {\n",
              "        text-align: right;\n",
              "    }\n",
              "</style>\n",
              "<table border=\"1\" class=\"dataframe\">\n",
              "  <thead>\n",
              "    <tr style=\"text-align: right;\">\n",
              "      <th></th>\n",
              "      <th>src_node</th>\n",
              "      <th>des_node</th>\n",
              "      <th>aa</th>\n",
              "      <th>jc</th>\n",
              "      <th>ra</th>\n",
              "      <th>pa</th>\n",
              "      <th>indicator_link</th>\n",
              "    </tr>\n",
              "  </thead>\n",
              "  <tbody>\n",
              "    <tr>\n",
              "      <th>0</th>\n",
              "      <td>23088921</td>\n",
              "      <td>21289083</td>\n",
              "      <td>2.6608925235598204</td>\n",
              "      <td>0.04433497536945813</td>\n",
              "      <td>0.3193174206441469</td>\n",
              "      <td>2400</td>\n",
              "      <td>1.0</td>\n",
              "    </tr>\n",
              "    <tr>\n",
              "      <th>1</th>\n",
              "      <td>43178112</td>\n",
              "      <td>22452975</td>\n",
              "      <td>0</td>\n",
              "      <td>0.0</td>\n",
              "      <td>0</td>\n",
              "      <td>20</td>\n",
              "      <td>1.0</td>\n",
              "    </tr>\n",
              "    <tr>\n",
              "      <th>2</th>\n",
              "      <td>24388804</td>\n",
              "      <td>46468815</td>\n",
              "      <td>0</td>\n",
              "      <td>0.0</td>\n",
              "      <td>0</td>\n",
              "      <td>81</td>\n",
              "      <td>1.0</td>\n",
              "    </tr>\n",
              "    <tr>\n",
              "      <th>3</th>\n",
              "      <td>83065521</td>\n",
              "      <td>97564216</td>\n",
              "      <td>0</td>\n",
              "      <td>0.0</td>\n",
              "      <td>0</td>\n",
              "      <td>60</td>\n",
              "      <td>1.0</td>\n",
              "    </tr>\n",
              "    <tr>\n",
              "      <th>4</th>\n",
              "      <td>61076501</td>\n",
              "      <td>26379624</td>\n",
              "      <td>0</td>\n",
              "      <td>0.0</td>\n",
              "      <td>0</td>\n",
              "      <td>8</td>\n",
              "      <td>1.0</td>\n",
              "    </tr>\n",
              "  </tbody>\n",
              "</table>\n",
              "</div>"
            ],
            "text/plain": [
              "   src_node  des_node  ...    pa indicator_link\n",
              "0  23088921  21289083  ...  2400            1.0\n",
              "1  43178112  22452975  ...    20            1.0\n",
              "2  24388804  46468815  ...    81            1.0\n",
              "3  83065521  97564216  ...    60            1.0\n",
              "4  61076501  26379624  ...     8            1.0\n",
              "\n",
              "[5 rows x 7 columns]"
            ]
          },
          "metadata": {
            "tags": []
          },
          "execution_count": 54
        }
      ]
    },
    {
      "cell_type": "code",
      "metadata": {
        "id": "S3rwAjmjLWwE",
        "colab_type": "code",
        "colab": {}
      },
      "source": [
        "df_final_test['indicator_link'] = y_final_test"
      ],
      "execution_count": 0,
      "outputs": []
    },
    {
      "cell_type": "code",
      "metadata": {
        "id": "RO15WRLmLWwI",
        "colab_type": "code",
        "colab": {},
        "outputId": "ed668732-9454-4ae4-caa2-e07fc8141a7f"
      },
      "source": [
        "#df_final_test1.info()"
      ],
      "execution_count": 0,
      "outputs": [
        {
          "output_type": "stream",
          "text": [
            "<class 'pandas.core.frame.DataFrame'>\n",
            "Int64Index: 1114168 entries, 1422 to 2231152\n",
            "Data columns (total 12 columns):\n",
            "src_node           1114168 non-null object\n",
            "des_node           1114168 non-null object\n",
            "pa                 1114168 non-null object\n",
            "indicator_link     1114168 non-null float64\n",
            "index              1114168 non-null object\n",
            "common_neigh       1114168 non-null float64\n",
            "jaccard            1114168 non-null float64\n",
            "resource_alloc     1114168 non-null float64\n",
            "adamic_adar        1114168 non-null float64\n",
            "pref_attachment    1114168 non-null float64\n",
            "first_node         1114168 non-null object\n",
            "second_node        1114168 non-null object\n",
            "dtypes: float64(6), object(6)\n",
            "memory usage: 110.5+ MB\n"
          ],
          "name": "stdout"
        }
      ]
    },
    {
      "cell_type": "code",
      "metadata": {
        "id": "7qMQp4uKLWwL",
        "colab_type": "code",
        "colab": {},
        "outputId": "0493979a-6bab-40c0-8edd-ef6ea1dd73ac"
      },
      "source": [
        "#df_final_train1.head()"
      ],
      "execution_count": 0,
      "outputs": [
        {
          "output_type": "execute_result",
          "data": {
            "text/html": [
              "<div>\n",
              "<style scoped>\n",
              "    .dataframe tbody tr th:only-of-type {\n",
              "        vertical-align: middle;\n",
              "    }\n",
              "\n",
              "    .dataframe tbody tr th {\n",
              "        vertical-align: top;\n",
              "    }\n",
              "\n",
              "    .dataframe thead th {\n",
              "        text-align: right;\n",
              "    }\n",
              "</style>\n",
              "<table border=\"1\" class=\"dataframe\">\n",
              "  <thead>\n",
              "    <tr style=\"text-align: right;\">\n",
              "      <th></th>\n",
              "      <th>src_node</th>\n",
              "      <th>des_node</th>\n",
              "      <th>pa</th>\n",
              "      <th>indicator_link</th>\n",
              "      <th>index</th>\n",
              "      <th>common_neigh</th>\n",
              "      <th>jaccard</th>\n",
              "      <th>resource_alloc</th>\n",
              "      <th>adamic_adar</th>\n",
              "      <th>pref_attachment</th>\n",
              "      <th>first_node</th>\n",
              "      <th>second_node</th>\n",
              "    </tr>\n",
              "  </thead>\n",
              "  <tbody>\n",
              "    <tr>\n",
              "      <td>3318</td>\n",
              "      <td>94373504</td>\n",
              "      <td>3772658</td>\n",
              "      <td>0</td>\n",
              "      <td>0.0</td>\n",
              "      <td>(94373504, 3772658)</td>\n",
              "      <td>0.0</td>\n",
              "      <td>0.0</td>\n",
              "      <td>0.0</td>\n",
              "      <td>0.0</td>\n",
              "      <td>0.000028</td>\n",
              "      <td>94373504</td>\n",
              "      <td>3772658</td>\n",
              "    </tr>\n",
              "    <tr>\n",
              "      <td>3319</td>\n",
              "      <td>46659797</td>\n",
              "      <td>33261003</td>\n",
              "      <td>0</td>\n",
              "      <td>0.0</td>\n",
              "      <td>(46659797, 33261003)</td>\n",
              "      <td>0.0</td>\n",
              "      <td>0.0</td>\n",
              "      <td>0.0</td>\n",
              "      <td>0.0</td>\n",
              "      <td>0.000000</td>\n",
              "      <td>46659797</td>\n",
              "      <td>33261003</td>\n",
              "    </tr>\n",
              "    <tr>\n",
              "      <td>3321</td>\n",
              "      <td>79474845</td>\n",
              "      <td>19171272</td>\n",
              "      <td>0</td>\n",
              "      <td>0.0</td>\n",
              "      <td>(79474845, 19171272)</td>\n",
              "      <td>0.0</td>\n",
              "      <td>0.0</td>\n",
              "      <td>0.0</td>\n",
              "      <td>0.0</td>\n",
              "      <td>0.000084</td>\n",
              "      <td>79474845</td>\n",
              "      <td>19171272</td>\n",
              "    </tr>\n",
              "    <tr>\n",
              "      <td>3322</td>\n",
              "      <td>70884619</td>\n",
              "      <td>20953110</td>\n",
              "      <td>0</td>\n",
              "      <td>0.0</td>\n",
              "      <td>(70884619, 20953110)</td>\n",
              "      <td>0.0</td>\n",
              "      <td>0.0</td>\n",
              "      <td>0.0</td>\n",
              "      <td>0.0</td>\n",
              "      <td>0.000000</td>\n",
              "      <td>70884619</td>\n",
              "      <td>20953110</td>\n",
              "    </tr>\n",
              "    <tr>\n",
              "      <td>3326</td>\n",
              "      <td>9745118</td>\n",
              "      <td>96946270</td>\n",
              "      <td>0</td>\n",
              "      <td>0.0</td>\n",
              "      <td>(9745118, 96946270)</td>\n",
              "      <td>0.0</td>\n",
              "      <td>0.0</td>\n",
              "      <td>0.0</td>\n",
              "      <td>0.0</td>\n",
              "      <td>0.000000</td>\n",
              "      <td>9745118</td>\n",
              "      <td>96946270</td>\n",
              "    </tr>\n",
              "  </tbody>\n",
              "</table>\n",
              "</div>"
            ],
            "text/plain": [
              "      src_node  des_node pa  indicator_link                 index  \\\n",
              "3318  94373504   3772658  0             0.0   (94373504, 3772658)   \n",
              "3319  46659797  33261003  0             0.0  (46659797, 33261003)   \n",
              "3321  79474845  19171272  0             0.0  (79474845, 19171272)   \n",
              "3322  70884619  20953110  0             0.0  (70884619, 20953110)   \n",
              "3326   9745118  96946270  0             0.0   (9745118, 96946270)   \n",
              "\n",
              "      common_neigh  jaccard  resource_alloc  adamic_adar  pref_attachment  \\\n",
              "3318           0.0      0.0             0.0          0.0         0.000028   \n",
              "3319           0.0      0.0             0.0          0.0         0.000000   \n",
              "3321           0.0      0.0             0.0          0.0         0.000084   \n",
              "3322           0.0      0.0             0.0          0.0         0.000000   \n",
              "3326           0.0      0.0             0.0          0.0         0.000000   \n",
              "\n",
              "     first_node second_node  \n",
              "3318   94373504     3772658  \n",
              "3319   46659797    33261003  \n",
              "3321   79474845    19171272  \n",
              "3322   70884619    20953110  \n",
              "3326    9745118    96946270  "
            ]
          },
          "metadata": {
            "tags": []
          },
          "execution_count": 57
        }
      ]
    },
    {
      "cell_type": "code",
      "metadata": {
        "id": "zZ2ilEySLWwQ",
        "colab_type": "code",
        "colab": {}
      },
      "source": [
        "y_train = df_final_train.indicator_link \n",
        "y_test = df_final_test.indicator_link"
      ],
      "execution_count": 0,
      "outputs": []
    },
    {
      "cell_type": "code",
      "metadata": {
        "id": "JIS4Bf_jLWwa",
        "colab_type": "code",
        "colab": {}
      },
      "source": [
        "df_final_train1=df_final_train\n",
        "df_final_test1=df_final_test"
      ],
      "execution_count": 0,
      "outputs": []
    },
    {
      "cell_type": "code",
      "metadata": {
        "id": "L2P2Gy4ULWwg",
        "colab_type": "code",
        "colab": {
          "base_uri": "https://localhost:8080/",
          "height": 225
        },
        "outputId": "47496a0c-5dc7-4504-b2d2-3a1334d35b7f"
      },
      "source": [
        "df_final_train1.info()"
      ],
      "execution_count": 58,
      "outputs": [
        {
          "output_type": "stream",
          "text": [
            "<class 'pandas.core.frame.DataFrame'>\n",
            "RangeIndex: 5949741 entries, 0 to 5949740\n",
            "Data columns (total 7 columns):\n",
            "src_node          object\n",
            "des_node          object\n",
            "aa                object\n",
            "jc                object\n",
            "ra                object\n",
            "pa                object\n",
            "indicator_link    float64\n",
            "dtypes: float64(1), object(6)\n",
            "memory usage: 317.8+ MB\n"
          ],
          "name": "stdout"
        }
      ]
    },
    {
      "cell_type": "code",
      "metadata": {
        "id": "yvQoGnAFLWwk",
        "colab_type": "code",
        "colab": {}
      },
      "source": [
        "df_final_train1.drop(['src_node', 'des_node','indicator_link'],axis=1,inplace=True)\n",
        "df_final_test1.drop(['src_node', 'des_node','indicator_link'],axis=1,inplace=True)"
      ],
      "execution_count": 0,
      "outputs": []
    },
    {
      "cell_type": "code",
      "metadata": {
        "id": "1u5ofdpHhHXW",
        "colab_type": "code",
        "colab": {
          "base_uri": "https://localhost:8080/",
          "height": 202
        },
        "outputId": "c5b9185c-bafb-4d99-9e93-d977cf9586a2"
      },
      "source": [
        "df_final_train1.head()"
      ],
      "execution_count": 60,
      "outputs": [
        {
          "output_type": "execute_result",
          "data": {
            "text/html": [
              "<div>\n",
              "<style scoped>\n",
              "    .dataframe tbody tr th:only-of-type {\n",
              "        vertical-align: middle;\n",
              "    }\n",
              "\n",
              "    .dataframe tbody tr th {\n",
              "        vertical-align: top;\n",
              "    }\n",
              "\n",
              "    .dataframe thead th {\n",
              "        text-align: right;\n",
              "    }\n",
              "</style>\n",
              "<table border=\"1\" class=\"dataframe\">\n",
              "  <thead>\n",
              "    <tr style=\"text-align: right;\">\n",
              "      <th></th>\n",
              "      <th>aa</th>\n",
              "      <th>jc</th>\n",
              "      <th>ra</th>\n",
              "      <th>pa</th>\n",
              "    </tr>\n",
              "  </thead>\n",
              "  <tbody>\n",
              "    <tr>\n",
              "      <th>0</th>\n",
              "      <td>2.6608925235598204</td>\n",
              "      <td>0.04433497536945813</td>\n",
              "      <td>0.3193174206441469</td>\n",
              "      <td>2400</td>\n",
              "    </tr>\n",
              "    <tr>\n",
              "      <th>1</th>\n",
              "      <td>0</td>\n",
              "      <td>0.0</td>\n",
              "      <td>0</td>\n",
              "      <td>20</td>\n",
              "    </tr>\n",
              "    <tr>\n",
              "      <th>2</th>\n",
              "      <td>0</td>\n",
              "      <td>0.0</td>\n",
              "      <td>0</td>\n",
              "      <td>81</td>\n",
              "    </tr>\n",
              "    <tr>\n",
              "      <th>3</th>\n",
              "      <td>0</td>\n",
              "      <td>0.0</td>\n",
              "      <td>0</td>\n",
              "      <td>60</td>\n",
              "    </tr>\n",
              "    <tr>\n",
              "      <th>4</th>\n",
              "      <td>0</td>\n",
              "      <td>0.0</td>\n",
              "      <td>0</td>\n",
              "      <td>8</td>\n",
              "    </tr>\n",
              "  </tbody>\n",
              "</table>\n",
              "</div>"
            ],
            "text/plain": [
              "                   aa                   jc                  ra    pa\n",
              "0  2.6608925235598204  0.04433497536945813  0.3193174206441469  2400\n",
              "1                   0                  0.0                   0    20\n",
              "2                   0                  0.0                   0    81\n",
              "3                   0                  0.0                   0    60\n",
              "4                   0                  0.0                   0     8"
            ]
          },
          "metadata": {
            "tags": []
          },
          "execution_count": 60
        }
      ]
    },
    {
      "cell_type": "code",
      "metadata": {
        "id": "t3sCv9VNiL-9",
        "colab_type": "code",
        "colab": {
          "base_uri": "https://localhost:8080/",
          "height": 225
        },
        "outputId": "d245f724-5455-4bdc-912b-d81919830eb5"
      },
      "source": [
        "y_train"
      ],
      "execution_count": 61,
      "outputs": [
        {
          "output_type": "execute_result",
          "data": {
            "text/plain": [
              "0          1.0\n",
              "1          1.0\n",
              "2          1.0\n",
              "3          1.0\n",
              "4          1.0\n",
              "          ... \n",
              "5949736    0.0\n",
              "5949737    0.0\n",
              "5949738    0.0\n",
              "5949739    0.0\n",
              "5949740    0.0\n",
              "Name: indicator_link, Length: 5949741, dtype: float64"
            ]
          },
          "metadata": {
            "tags": []
          },
          "execution_count": 61
        }
      ]
    },
    {
      "cell_type": "code",
      "metadata": {
        "id": "udjaw5kTjN8X",
        "colab_type": "code",
        "colab": {}
      },
      "source": [
        "from sklearn.linear_model import LogisticRegression\n",
        "from sklearn.metrics import accuracy_score \n",
        "model = LogisticRegression()\n",
        "model.fit(df_final_train1,y_train)\n",
        "predicted_classes = model.predict(df_final_test1)\n",
        "accuracy = accuracy_score(y_test,predicted_classes)\n",
        "parameters = model.coef_"
      ],
      "execution_count": 0,
      "outputs": []
    },
    {
      "cell_type": "code",
      "metadata": {
        "id": "4SWLAd9OnXoT",
        "colab_type": "code",
        "colab": {
          "base_uri": "https://localhost:8080/",
          "height": 35
        },
        "outputId": "91a6d1b9-b388-4d3d-e376-cddf5a7be5e0"
      },
      "source": [
        "parameters"
      ],
      "execution_count": 72,
      "outputs": [
        {
          "output_type": "execute_result",
          "data": {
            "text/plain": [
              "array([[3.02277516e+00, 1.70383175e-01, 6.21394143e-01, 2.06380833e-04]])"
            ]
          },
          "metadata": {
            "tags": []
          },
          "execution_count": 72
        }
      ]
    },
    {
      "cell_type": "code",
      "metadata": {
        "id": "niRu8oLxnoZa",
        "colab_type": "code",
        "colab": {
          "base_uri": "https://localhost:8080/",
          "height": 35
        },
        "outputId": "ae0ac57b-baa0-4205-b746-a83249a1a31b"
      },
      "source": [
        "accuracy"
      ],
      "execution_count": 73,
      "outputs": [
        {
          "output_type": "execute_result",
          "data": {
            "text/plain": [
              "0.9993505602930143"
            ]
          },
          "metadata": {
            "tags": []
          },
          "execution_count": 73
        }
      ]
    },
    {
      "cell_type": "code",
      "metadata": {
        "id": "U1j8pM72ntZM",
        "colab_type": "code",
        "colab": {}
      },
      "source": [
        "import sklearn.metrics as metrics\n",
        "# calculate the fpr and tpr for all thresholds of the classification\n",
        "probs = model.predict_proba(df_final_test1)\n",
        "preds = probs[:,1]\n",
        "fpr, tpr, threshold = metrics.roc_curve(y_test, preds)\n",
        "roc_auc = metrics.auc(fpr, tpr)\n"
      ],
      "execution_count": 0,
      "outputs": []
    },
    {
      "cell_type": "code",
      "metadata": {
        "id": "g-JWiegao9Gi",
        "colab_type": "code",
        "colab": {
          "base_uri": "https://localhost:8080/",
          "height": 35
        },
        "outputId": "9a797911-0f97-404a-ff6f-ae62ada4738d"
      },
      "source": [
        "roc_auc"
      ],
      "execution_count": 76,
      "outputs": [
        {
          "output_type": "execute_result",
          "data": {
            "text/plain": [
              "0.9233789274771672"
            ]
          },
          "metadata": {
            "tags": []
          },
          "execution_count": 76
        }
      ]
    },
    {
      "cell_type": "code",
      "metadata": {
        "id": "nx0Z4bbGowbH",
        "colab_type": "code",
        "colab": {
          "base_uri": "https://localhost:8080/",
          "height": 295
        },
        "outputId": "6964172b-48c8-4dbf-8258-6491708176c9"
      },
      "source": [
        "import matplotlib.pyplot as plt\n",
        "plt.title('Receiver Operating Characteristic')\n",
        "plt.plot(fpr, tpr, 'b', label = 'AUC = %0.2f' % roc_auc)\n",
        "plt.legend(loc = 'lower right')\n",
        "plt.plot([0, 1], [0, 1],'r--')\n",
        "plt.xlim([0, 1])\n",
        "plt.ylim([0, 1])\n",
        "plt.ylabel('True Positive Rate')\n",
        "plt.xlabel('False Positive Rate')\n",
        "plt.show()"
      ],
      "execution_count": 75,
      "outputs": [
        {
          "output_type": "display_data",
          "data": {
            "image/png": "[encoded data removed]",
            "text/plain": [
              "<Figure size 432x288 with 1 Axes>"
            ]
          },
          "metadata": {
            "tags": []
          }
        }
      ]
    },
    {
      "cell_type": "code",
      "metadata": {
        "id": "AcHothw1o2uY",
        "colab_type": "code",
        "colab": {}
      },
      "source": [
        ""
      ],
      "execution_count": 0,
      "outputs": []
    }
  ]
}